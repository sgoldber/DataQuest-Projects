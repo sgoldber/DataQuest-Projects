{
 "cells": [
  {
   "cell_type": "code",
   "execution_count": 35,
   "metadata": {
    "collapsed": false
   },
   "outputs": [],
   "source": [
    "import pandas as pd\n",
    "star_wars = pd.read_csv(\"star_wars.csv\", encoding=\"ISO-8859-1\")\n",
    "star_wars = star_wars.dropna(axis=0, how='any', subset=[\"RespondentID\"])"
   ]
  },
  {
   "cell_type": "code",
   "execution_count": 36,
   "metadata": {
    "collapsed": false
   },
   "outputs": [],
   "source": [
    "yes_no = {\n",
    "    \"Yes\": True,\n",
    "    \"No\": False\n",
    "}\n",
    "\n",
    "star_wars[\"Have you seen any of the 6 films in the Star Wars franchise?\"] = star_wars[\"Have you seen any of the 6 films in the Star Wars franchise?\"].map(yes_no)\n",
    "star_wars[\"Do you consider yourself to be a fan of the Star Wars film franchise?\"] = star_wars[\"Do you consider yourself to be a fan of the Star Wars film franchise?\"].map(yes_no)"
   ]
  },
  {
   "cell_type": "code",
   "execution_count": 37,
   "metadata": {
    "collapsed": false
   },
   "outputs": [
    {
     "name": "stdout",
     "output_type": "stream",
     "text": [
      "True     936\n",
      "False    250\n",
      "Name: Have you seen any of the 6 films in the Star Wars franchise?, dtype: int64\n"
     ]
    }
   ],
   "source": [
    "print(star_wars[\"Have you seen any of the 6 films in the Star Wars franchise?\"].value_counts())"
   ]
  },
  {
   "cell_type": "code",
   "execution_count": 38,
   "metadata": {
    "collapsed": true
   },
   "outputs": [
    {
     "name": "stdout",
     "output_type": "stream",
     "text": [
      "   RespondentID Have you seen any of the 6 films in the Star Wars franchise?  \\\n",
      "1  3.292880e+09                                               True             \n",
      "2  3.292880e+09                                              False             \n",
      "3  3.292765e+09                                               True             \n",
      "4  3.292763e+09                                               True             \n",
      "5  3.292731e+09                                               True             \n",
      "\n",
      "  Do you consider yourself to be a fan of the Star Wars film franchise?  \\\n",
      "1                                               True                      \n",
      "2                                                NaN                      \n",
      "3                                              False                      \n",
      "4                                               True                      \n",
      "5                                               True                      \n",
      "\n",
      "  Which of the following Star Wars films have you seen? Please select all that apply.  \\\n",
      "1           Star Wars: Episode I  The Phantom Menace                                    \n",
      "2                                                NaN                                    \n",
      "3           Star Wars: Episode I  The Phantom Menace                                    \n",
      "4           Star Wars: Episode I  The Phantom Menace                                    \n",
      "5           Star Wars: Episode I  The Phantom Menace                                    \n",
      "\n",
      "                                    Unnamed: 4  \\\n",
      "1  Star Wars: Episode II  Attack of the Clones   \n",
      "2                                          NaN   \n",
      "3  Star Wars: Episode II  Attack of the Clones   \n",
      "4  Star Wars: Episode II  Attack of the Clones   \n",
      "5  Star Wars: Episode II  Attack of the Clones   \n",
      "\n",
      "                                    Unnamed: 5  \\\n",
      "1  Star Wars: Episode III  Revenge of the Sith   \n",
      "2                                          NaN   \n",
      "3  Star Wars: Episode III  Revenge of the Sith   \n",
      "4  Star Wars: Episode III  Revenge of the Sith   \n",
      "5  Star Wars: Episode III  Revenge of the Sith   \n",
      "\n",
      "                          Unnamed: 6  \\\n",
      "1  Star Wars: Episode IV  A New Hope   \n",
      "2                                NaN   \n",
      "3                                NaN   \n",
      "4  Star Wars: Episode IV  A New Hope   \n",
      "5  Star Wars: Episode IV  A New Hope   \n",
      "\n",
      "                                     Unnamed: 7  \\\n",
      "1  Star Wars: Episode V The Empire Strikes Back   \n",
      "2                                           NaN   \n",
      "3                                           NaN   \n",
      "4  Star Wars: Episode V The Empire Strikes Back   \n",
      "5  Star Wars: Episode V The Empire Strikes Back   \n",
      "\n",
      "                                 Unnamed: 8  \\\n",
      "1  Star Wars: Episode VI Return of the Jedi   \n",
      "2                                       NaN   \n",
      "3                                       NaN   \n",
      "4  Star Wars: Episode VI Return of the Jedi   \n",
      "5  Star Wars: Episode VI Return of the Jedi   \n",
      "\n",
      "  Please rank the Star Wars films in order of preference with 1 being your favorite film in the franchise and 6 being your least favorite film.  \\\n",
      "1                                                  3                                                                                              \n",
      "2                                                NaN                                                                                              \n",
      "3                                                  1                                                                                              \n",
      "4                                                  5                                                                                              \n",
      "5                                                  5                                                                                              \n",
      "\n",
      "            ...                    Unnamed: 28  \\\n",
      "1           ...                 Very favorably   \n",
      "2           ...                            NaN   \n",
      "3           ...               Unfamiliar (N/A)   \n",
      "4           ...                 Very favorably   \n",
      "5           ...             Somewhat favorably   \n",
      "\n",
      "        Which character shot first?  \\\n",
      "1  I don't understand this question   \n",
      "2                               NaN   \n",
      "3  I don't understand this question   \n",
      "4  I don't understand this question   \n",
      "5                            Greedo   \n",
      "\n",
      "  Are you familiar with the Expanded Universe?  \\\n",
      "1                                          Yes   \n",
      "2                                          NaN   \n",
      "3                                           No   \n",
      "4                                           No   \n",
      "5                                          Yes   \n",
      "\n",
      "  Do you consider yourself to be a fan of the Expanded Universe?ÂÃ¦  \\\n",
      "1                                                 No                   \n",
      "2                                                NaN                   \n",
      "3                                                NaN                   \n",
      "4                                                NaN                   \n",
      "5                                                 No                   \n",
      "\n",
      "  Do you consider yourself to be a fan of the Star Trek franchise? Gender  \\\n",
      "1                                                 No                 Male   \n",
      "2                                                Yes                 Male   \n",
      "3                                                 No                 Male   \n",
      "4                                                Yes                 Male   \n",
      "5                                                 No                 Male   \n",
      "\n",
      "     Age     Household Income                         Education  \\\n",
      "1  18-29                  NaN                High school degree   \n",
      "2  18-29         $0 - $24,999                   Bachelor degree   \n",
      "3  18-29         $0 - $24,999                High school degree   \n",
      "4  18-29  $100,000 - $149,999  Some college or Associate degree   \n",
      "5  18-29  $100,000 - $149,999  Some college or Associate degree   \n",
      "\n",
      "  Location (Census Region)  \n",
      "1           South Atlantic  \n",
      "2       West South Central  \n",
      "3       West North Central  \n",
      "4       West North Central  \n",
      "5       West North Central  \n",
      "\n",
      "[5 rows x 38 columns]\n"
     ]
    }
   ],
   "source": [
    "import numpy as np\n",
    "movie_map = {\n",
    "    \"Star Wars: Episode I  The Phantom Menace\": True,\n",
    "    \"Star Wars: Episode II  Attack of the Clones\": True,\n",
    "    \"Star Wars: Episode III  Revenge of the Sith\": True,\n",
    "    \"Star Wars: Episode IV  A New Hope\": True,\n",
    "    \"Star Wars: Episode V The Empire Strikes Back\": True,\n",
    "    \"Star Wars: Episode VI Return of the Jedi\": True,\n",
    "    np.nan: False\n",
    "}\n",
    "\n",
    "for column in star_wars.columns[3:9]:\n",
    "    star_wars[column] = star_wars[column].map(movie_map)\n",
    "    \n",
    "star_wars = star_wars.rename(columns={\n",
    "    \"Which of the following Star Wars films have you seen? Please select all that apply.\": \"seen_1\",\n",
    "    \"Unnamed: 4\": \"seen_2\",\n",
    "    \"Unnamed: 5\": \"seen_3\",\n",
    "    \"Unnamed: 6\": \"seen_4\",\n",
    "    \"Unnamed: 7\": \"seen_5\",\n",
    "    \"Unnamed: 8\": \"seen_6\"\n",
    "})"
   ]
  },
  {
   "cell_type": "code",
   "execution_count": 40,
   "metadata": {
    "collapsed": true
   },
   "outputs": [
    {
     "name": "stdout",
     "output_type": "stream",
     "text": [
      "RespondentID                                                                                                                           3.29288e+09\n",
      "Have you seen any of the 6 films in the Star Wars franchise?                                                                                  True\n",
      "Do you consider yourself to be a fan of the Star Wars film franchise?                                                                         True\n",
      "seen_1                                                                                                                                        True\n",
      "seen_2                                                                                                                                        True\n",
      "seen_3                                                                                                                                        True\n",
      "seen_4                                                                                                                                        True\n",
      "seen_5                                                                                                                                        True\n",
      "seen_6                                                                                                                                        True\n",
      "ranking_1                                                                                                                                        3\n",
      "ranking_2                                                                                                                                        2\n",
      "ranking_3                                                                                                                                        1\n",
      "ranking_4                                                                                                                                        4\n",
      "ranking_5                                                                                                                                        5\n",
      "ranking_6                                                                                                                                        6\n",
      "Please state whether you view the following characters favorably, unfavorably, or are unfamiliar with him/her.                      Very favorably\n",
      "Unnamed: 16                                                                                                                         Very favorably\n",
      "Unnamed: 17                                                                                                                         Very favorably\n",
      "Unnamed: 18                                                                                                                         Very favorably\n",
      "Unnamed: 19                                                                                                                         Very favorably\n",
      "Unnamed: 20                                                                                                                         Very favorably\n",
      "Unnamed: 21                                                                                                                         Very favorably\n",
      "Unnamed: 22                                                                                                                       Unfamiliar (N/A)\n",
      "Unnamed: 23                                                                                                                       Unfamiliar (N/A)\n",
      "Unnamed: 24                                                                                                                         Very favorably\n",
      "Unnamed: 25                                                                                                                         Very favorably\n",
      "Unnamed: 26                                                                                                                         Very favorably\n",
      "Unnamed: 27                                                                                                                         Very favorably\n",
      "Unnamed: 28                                                                                                                         Very favorably\n",
      "Which character shot first?                                                                                       I don't understand this question\n",
      "Are you familiar with the Expanded Universe?                                                                                                   Yes\n",
      "Do you consider yourself to be a fan of the Expanded Universe?ÂÃ¦                                                                              No\n",
      "Do you consider yourself to be a fan of the Star Trek franchise?                                                                                No\n",
      "Gender                                                                                                                                        Male\n",
      "Age                                                                                                                                          18-29\n",
      "Household Income                                                                                                                               NaN\n",
      "Education                                                                                                                       High school degree\n",
      "Location (Census Region)                                                                                                            South Atlantic\n",
      "Name: 1, dtype: object\n"
     ]
    }
   ],
   "source": [
    "star_wars[star_wars.columns[9:15]] = star_wars[star_wars.columns[9:15]].astype(float)\n",
    "star_wars = star_wars.rename(columns={\n",
    "    \"Please rank the Star Wars films in order of preference with 1 being your favorite film in the franchise and 6 being your least favorite film.\": \"ranking_1\",\n",
    "    \"Unnamed: 10\": \"ranking_2\",\n",
    "    \"Unnamed: 11\": \"ranking_3\",\n",
    "    \"Unnamed: 12\": \"ranking_4\",\n",
    "    \"Unnamed: 13\": \"ranking_5\",\n",
    "    \"Unnamed: 14\": \"ranking_6\"\n",
    "})\n",
    "print(star_wars.iloc[0])"
   ]
  },
  {
   "cell_type": "code",
   "execution_count": 44,
   "metadata": {
    "collapsed": false
   },
   "outputs": [
    {
     "data": {
      "image/png": "[encoded data removed]",
      "text/plain": [
       "<matplotlib.figure.Figure at 0x7f6d7c0c07f0>"
      ]
     },
     "metadata": {},
     "output_type": "display_data"
    }
   ],
   "source": [
    "%matplotlib inline\n",
    "import matplotlib.pyplot as plt\n",
    "means = star_wars.mean()\n",
    "plt.bar(np.arange(6), means[8:], align=\"center\")\n",
    "plt.xticks(np.arange(6), star_wars.columns[9:15], rotation=90)\n",
    "plt.ylabel('Rating (lower is better)')\n",
    "plt.title('Rankings of all 6 movies')\n",
    "plt.show()"
   ]
  },
  {
   "cell_type": "code",
   "execution_count": 48,
   "metadata": {
    "collapsed": false
   },
   "outputs": [
    {
     "data": {
      "image/png": "[encoded data removed]",
      "text/plain": [
       "<matplotlib.figure.Figure at 0x7f6da096ee80>"
      ]
     },
     "metadata": {},
     "output_type": "display_data"
    }
   ],
   "source": [
    "sums = star_wars.sum()\n",
    "plt.bar(np.arange(6), sums[2:8], align=\"center\")\n",
    "plt.xticks(np.arange(6), star_wars.columns[3:9], rotation=90)\n",
    "plt.ylabel('Seen Count')\n",
    "plt.title('Seen Count of all 6 movies')\n",
    "plt.show()"
   ]
  },
  {
   "cell_type": "code",
   "execution_count": null,
   "metadata": {
    "collapsed": true
   },
   "outputs": [],
   "source": [
    "males = star_wars[star_wars[\"Gender\"] == \"Male\"]\n",
    "females = star_wars[star_wars[\"Gender\"] == \"Female\"]\n",
    "male_means = males.mean()\n",
    "female_means = females.mean()\n",
    "plt.bar(np.arange(6), male_means[8:], align=\"center\")\n",
    "plt.xticks(np.arange(6), star_wars.columns[9:15], rotation=90)\n",
    "plt.ylabel('Rating (lower is better)')\n",
    "plt.title('Rankings of all 6 movies')\n",
    "plt.show()"
   ]
  }
 ],
 "metadata": {
  "kernelspec": {
   "display_name": "Python 3",
   "language": "python",
   "name": "python3"
  },
  "language_info": {
   "codemirror_mode": {
    "name": "ipython",
    "version": 3
   },
   "file_extension": ".py",
   "mimetype": "text/x-python",
   "name": "python",
   "nbconvert_exporter": "python",
   "pygments_lexer": "ipython3",
   "version": "3.4.3"
  }
 },
 "nbformat": 4,
 "nbformat_minor": 0
}
