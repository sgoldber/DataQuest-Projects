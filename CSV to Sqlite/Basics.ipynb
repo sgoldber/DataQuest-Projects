{
 "cells": [
  {
   "cell_type": "code",
   "execution_count": 50,
   "metadata": {
    "collapsed": false
   },
   "outputs": [
    {
     "name": "stdout",
     "output_type": "stream",
     "text": [
      "          Year               Category          Nominee  \\\n",
      "0  2010 (83rd)  Actor -- Leading Role    Javier Bardem   \n",
      "1  2010 (83rd)  Actor -- Leading Role     Jeff Bridges   \n",
      "2  2010 (83rd)  Actor -- Leading Role  Jesse Eisenberg   \n",
      "\n",
      "                          Additional Info Won? Unnamed: 5 Unnamed: 6  \\\n",
      "0                      Biutiful {'Uxbal'}   NO        NaN        NaN   \n",
      "1           True Grit {'Rooster Cogburn'}   NO        NaN        NaN   \n",
      "2  The Social Network {'Mark Zuckerberg'}   NO        NaN        NaN   \n",
      "\n",
      "  Unnamed: 7 Unnamed: 8 Unnamed: 9 Unnamed: 10  \n",
      "0        NaN        NaN        NaN         NaN  \n",
      "1        NaN        NaN        NaN         NaN  \n",
      "2        NaN        NaN        NaN         NaN  \n",
      "Index(['Year', 'Category', 'Nominee', 'Additional Info', 'Won?', 'Unnamed: 5',\n",
      "       'Unnamed: 6', 'Unnamed: 7', 'Unnamed: 8', 'Unnamed: 9', 'Unnamed: 10'],\n",
      "      dtype='object')\n"
     ]
    }
   ],
   "source": [
    "import pandas as pd\n",
    "\n",
    "df = pd.read_csv(\"academy_awards.csv\", encoding=\"ISO-8859-1\")\n",
    "print(df.head(3))\n",
    "print(df.columns)"
   ]
  },
  {
   "cell_type": "code",
   "execution_count": 51,
   "metadata": {
    "collapsed": false
   },
   "outputs": [
    {
     "name": "stdout",
     "output_type": "stream",
     "text": [
      "1941 (14th)      192\n",
      "1942 (15th)      190\n",
      "1943 (16th)      188\n",
      "1944 (17th)      181\n",
      "1945 (18th)      163\n",
      "1940 (13th)      162\n",
      "1939 (12th)      153\n",
      "1998 (71st)      150\n",
      "1938 (11th)      145\n",
      "1954 (27th)      141\n",
      "1995 (68th)      141\n",
      "2009 (82nd)      140\n",
      "1952 (25th)      138\n",
      "1994 (67th)      138\n",
      "1997 (70th)      137\n",
      "2001 (74th)      137\n",
      "2010 (83rd)      135\n",
      "1953 (26th)      135\n",
      "1937 (10th)      135\n",
      "1956 (29th)      134\n",
      "1955 (28th)      132\n",
      "1964 (37th)      132\n",
      "1996 (69th)      131\n",
      "2006 (79th)      130\n",
      "2005 (78th)      129\n",
      "1990 (63rd)      129\n",
      "1961 (34th)      129\n",
      "2000 (73rd)      129\n",
      "2004 (77th)      129\n",
      "1966 (39th)      129\n",
      "                ... \n",
      "1987 (60th)      119\n",
      "2008 (81st)      118\n",
      "1975 (48th)      118\n",
      "1985 (58th)      116\n",
      "1983 (56th)      116\n",
      "1950 (23rd)      116\n",
      "1936 (9th)       115\n",
      "1958 (31st)      115\n",
      "1948 (21st)      115\n",
      "1974 (47th)      115\n",
      "1946 (19th)      115\n",
      "1972 (45th)      114\n",
      "1947 (20th)      114\n",
      "1989 (62nd)      114\n",
      "1967 (40th)      113\n",
      "1976 (49th)      113\n",
      "1980 (53rd)      113\n",
      "1969 (42nd)      112\n",
      "1970 (43rd)      112\n",
      "1971 (44th)      110\n",
      "1973 (46th)      109\n",
      "1957 (30th)      106\n",
      "1935 (8th)        95\n",
      "1934 (7th)        68\n",
      "1932/33 (6th)     65\n",
      "1930/31 (4th)     50\n",
      "1931/32 (5th)     47\n",
      "1929/30 (3rd)     42\n",
      "1927/28 (1st)     39\n",
      "1928/29 (2nd)     38\n",
      "Name: Year, dtype: int64\n"
     ]
    }
   ],
   "source": [
    "print(df[\"Year\"].value_counts())"
   ]
  },
  {
   "cell_type": "code",
   "execution_count": 52,
   "metadata": {
    "collapsed": false
   },
   "outputs": [],
   "source": [
    "import numpy as np\n",
    "\n",
    "df[\"Year\"] = df[\"Year\"].str[0:4]\n",
    "df[\"Year\"] = df[\"Year\"].astype(np.int64)"
   ]
  },
  {
   "cell_type": "code",
   "execution_count": 53,
   "metadata": {
    "collapsed": true
   },
   "outputs": [],
   "source": [
    "later_than_2000 = df[df[\"Year\"] > 2000]"
   ]
  },
  {
   "cell_type": "code",
   "execution_count": 54,
   "metadata": {
    "collapsed": true
   },
   "outputs": [],
   "source": [
    "award_categories = [\"Actor -- Leading Role\", \"Actor -- Supporting Role\", \"Actress -- Leading Role\", \"Actress -- Supporting Role\"]\n",
    "nominations = later_than_2000[later_than_2000[\"Category\"].isin(award_categories)]"
   ]
  },
  {
   "cell_type": "code",
   "execution_count": 55,
   "metadata": {
    "collapsed": false
   },
   "outputs": [],
   "source": [
    "replace_dict = {\"NO\":0, \"YES\": 1}\n",
    "pd.options.mode.chained_assignment = None\n",
    "nominations[\"Won?\"] = nominations[\"Won?\"].map(replace_dict)\n",
    "nominations[\"Won\"] = nominations[\"Won?\"]"
   ]
  },
  {
   "cell_type": "code",
   "execution_count": 56,
   "metadata": {
    "collapsed": true
   },
   "outputs": [],
   "source": [
    "cols_to_drop = [\"Won?\", \"Unnamed: 5\", \"Unnamed: 6\", \"Unnamed: 7\", \"Unnamed: 8\", \"Unnamed: 9\", \"Unnamed: 10\"]\n",
    "final_nominations = nominations.drop(cols_to_drop, axis=1)"
   ]
  },
  {
   "cell_type": "code",
   "execution_count": 57,
   "metadata": {
    "collapsed": false
   },
   "outputs": [
    {
     "name": "stdout",
     "output_type": "stream",
     "text": [
      "   Year               Category        Nominee                Additional Info  \\\n",
      "0  2010  Actor -- Leading Role  Javier Bardem             Biutiful {'Uxbal'}   \n",
      "1  2010  Actor -- Leading Role   Jeff Bridges  True Grit {'Rooster Cogburn'}   \n",
      "\n",
      "   Won  \n",
      "0    0  \n",
      "1    0  \n"
     ]
    }
   ],
   "source": [
    "print(final_nominations.head(2))"
   ]
  },
  {
   "cell_type": "code",
   "execution_count": 58,
   "metadata": {
    "collapsed": false
   },
   "outputs": [
    {
     "name": "stdout",
     "output_type": "stream",
     "text": [
      "   Year               Category          Nominee  Won               Movie  \\\n",
      "0  2010  Actor -- Leading Role    Javier Bardem    0            Biutiful   \n",
      "1  2010  Actor -- Leading Role     Jeff Bridges    0           True Grit   \n",
      "2  2010  Actor -- Leading Role  Jesse Eisenberg    0  The Social Network   \n",
      "3  2010  Actor -- Leading Role      Colin Firth    1   The King's Speech   \n",
      "4  2010  Actor -- Leading Role     James Franco    0           127 Hours   \n",
      "\n",
      "         Character  \n",
      "0            Uxbal  \n",
      "1  Rooster Cogburn  \n",
      "2  Mark Zuckerberg  \n",
      "3   King George VI  \n",
      "4     Aron Ralston  \n"
     ]
    }
   ],
   "source": [
    "a_i = final_nominations[\"Additional Info\"]\n",
    "additional_info_one = a_i.str.rstrip(\"'}\")\n",
    "additional_info_two = additional_info_one.str.split(\" {'\")\n",
    "final_nominations[\"Movie\"] = additional_info_two.str[0]\n",
    "final_nominations[\"Character\"] = additional_info_two.str[1]\n",
    "final_nominations = final_nominations.drop([\"Additional Info\"], axis=1)\n",
    "print(final_nominations.head(5))"
   ]
  },
  {
   "cell_type": "code",
   "execution_count": 59,
   "metadata": {
    "collapsed": true
   },
   "outputs": [],
   "source": [
    "import sqlite3\n",
    "\n",
    "conn = sqlite3.connect(\"nominations.db\")\n",
    "final_nominations.to_sql(\"nominations\", conn, index=False)\n"
   ]
  },
  {
   "cell_type": "code",
   "execution_count": 65,
   "metadata": {
    "collapsed": false
   },
   "outputs": [
    {
     "name": "stdout",
     "output_type": "stream",
     "text": [
      "[(2010, 'Actor -- Leading Role', 'Javier Bardem', 0, 'Biutiful', 'Uxbal'), (2010, 'Actor -- Leading Role', 'Jeff Bridges', 0, 'True Grit', 'Rooster Cogburn'), (2010, 'Actor -- Leading Role', 'Jesse Eisenberg', 0, 'The Social Network', 'Mark Zuckerberg'), (2010, 'Actor -- Leading Role', 'Colin Firth', 1, \"The King's Speech\", 'King George VI'), (2010, 'Actor -- Leading Role', 'James Franco', 0, '127 Hours', 'Aron Ralston'), (2010, 'Actor -- Supporting Role', 'Christian Bale', 1, 'The Fighter', 'Dicky Eklund'), (2010, 'Actor -- Supporting Role', 'John Hawkes', 0, \"Winter's Bone\", 'Teardrop'), (2010, 'Actor -- Supporting Role', 'Jeremy Renner', 0, 'The Town', 'James Coughlin'), (2010, 'Actor -- Supporting Role', 'Mark Ruffalo', 0, 'The Kids Are All Right', 'Paul'), (2010, 'Actor -- Supporting Role', 'Geoffrey Rush', 0, \"The King's Speech\", 'Lionel Logue')]\n"
     ]
    }
   ],
   "source": [
    "\n",
    "q = \"select * from nominations limit 10;\"\n",
    "result = conn.execute(q).fetchall()\n",
    "print(result)"
   ]
  },
  {
   "cell_type": "code",
   "execution_count": null,
   "metadata": {
    "collapsed": true
   },
   "outputs": [],
   "source": []
  }
 ],
 "metadata": {
  "kernelspec": {
   "display_name": "Python 3",
   "language": "python",
   "name": "python3"
  },
  "language_info": {
   "codemirror_mode": {
    "name": "ipython",
    "version": 3
   },
   "file_extension": ".py",
   "mimetype": "text/x-python",
   "name": "python",
   "nbconvert_exporter": "python",
   "pygments_lexer": "ipython3",
   "version": "3.4.3"
  }
 },
 "nbformat": 4,
 "nbformat_minor": 0
}
